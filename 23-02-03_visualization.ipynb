{
 "cells": [
  {
   "cell_type": "code",
   "execution_count": 29,
   "metadata": {},
   "outputs": [
    {
     "name": "stderr",
     "output_type": "stream",
     "text": [
      "\u001b[32m\u001b[1m  Activating\u001b[22m\u001b[39m project at `c:\\Users\\lilang\\OneDrive\\OneDrive - Danmarks Tekniske Universitet\\Spine Model\\Skive`\n"
     ]
    }
   ],
   "source": [
    "using Pkg\n",
    "Pkg.activate(pwd())"
   ]
  },
  {
   "cell_type": "code",
   "execution_count": 138,
   "metadata": {},
   "outputs": [],
   "source": [
    "using GLMakie, CSV, DataFrames, Dates\n",
    "GLMakie.activate!()"
   ]
  },
  {
   "cell_type": "code",
   "execution_count": 98,
   "metadata": {},
   "outputs": [],
   "source": [
    "# using CairoMakie\n",
    "# CairoMakie.activate!()"
   ]
  },
  {
   "cell_type": "code",
   "execution_count": 31,
   "metadata": {},
   "outputs": [
    {
     "data": {
      "text/html": [
       "<div><div style = \"float: left;\"><span>7×7 DataFrame</span></div><div style = \"clear: both;\"></div></div><div class = \"data-frame\" style = \"overflow-x: scroll;\"><table class = \"data-frame\" style = \"margin-bottom: 6px;\"><thead><tr class = \"header\"><th class = \"rowNumber\" style = \"font-weight: bold; text-align: right;\">Row</th><th style = \"text-align: left;\">variable</th><th style = \"text-align: left;\">mean</th><th style = \"text-align: left;\">min</th><th style = \"text-align: left;\">median</th><th style = \"text-align: left;\">max</th><th style = \"text-align: left;\">nmissing</th><th style = \"text-align: left;\">eltype</th></tr><tr class = \"subheader headerLastRow\"><th class = \"rowNumber\" style = \"font-weight: bold; text-align: right;\"></th><th title = \"Symbol\" style = \"text-align: left;\">Symbol</th><th title = \"Union{Nothing, Float64}\" style = \"text-align: left;\">Union…</th><th title = \"Any\" style = \"text-align: left;\">Any</th><th title = \"Any\" style = \"text-align: left;\">Any</th><th title = \"Any\" style = \"text-align: left;\">Any</th><th title = \"Int64\" style = \"text-align: left;\">Int64</th><th title = \"DataType\" style = \"text-align: left;\">DataType</th></tr></thead><tbody><tr><td class = \"rowNumber\" style = \"font-weight: bold; text-align: right;\">1</td><td style = \"text-align: left;\">Parameter</td><td style = \"font-style: italic; text-align: left;\"></td><td style = \"text-align: left;\">unit_flow</td><td style = \"font-style: italic; text-align: left;\"></td><td style = \"text-align: left;\">unit_flow</td><td style = \"text-align: right;\">0</td><td style = \"text-align: left;\">String15</td></tr><tr><td class = \"rowNumber\" style = \"font-weight: bold; text-align: right;\">2</td><td style = \"text-align: left;\">Unit</td><td style = \"font-style: italic; text-align: left;\"></td><td style = \"text-align: left;\">ASU</td><td style = \"font-style: italic; text-align: left;\"></td><td style = \"text-align: left;\">NH3_syn_10</td><td style = \"text-align: right;\">0</td><td style = \"text-align: left;\">String15</td></tr><tr><td class = \"rowNumber\" style = \"font-weight: bold; text-align: right;\">3</td><td style = \"text-align: left;\">Node</td><td style = \"font-style: italic; text-align: left;\"></td><td style = \"text-align: left;\">BESS</td><td style = \"font-style: italic; text-align: left;\"></td><td style = \"text-align: left;\">Steam_out</td><td style = \"text-align: right;\">0</td><td style = \"text-align: left;\">String31</td></tr><tr><td class = \"rowNumber\" style = \"font-weight: bold; text-align: right;\">4</td><td style = \"text-align: left;\">Direction</td><td style = \"font-style: italic; text-align: left;\"></td><td style = \"text-align: left;\">from_node</td><td style = \"font-style: italic; text-align: left;\"></td><td style = \"text-align: left;\">to_node</td><td style = \"text-align: right;\">0</td><td style = \"text-align: left;\">String15</td></tr><tr><td class = \"rowNumber\" style = \"font-weight: bold; text-align: right;\">5</td><td style = \"text-align: left;\">Time</td><td style = \"font-style: italic; text-align: left;\"></td><td style = \"text-align: left;\">2019-01-01T00:00:00</td><td style = \"text-align: left;\">2019-07-01T00:00:00</td><td style = \"text-align: left;\">2019-12-30T23:00:00</td><td style = \"text-align: right;\">0</td><td style = \"text-align: left;\">DateTime</td></tr><tr><td class = \"rowNumber\" style = \"font-weight: bold; text-align: right;\">6</td><td style = \"text-align: left;\">Value</td><td style = \"text-align: left;\">16.3883</td><td style = \"text-align: left;\">-1.41754e-6</td><td style = \"text-align: left;\">3.47203</td><td style = \"text-align: left;\">185.314</td><td style = \"text-align: right;\">0</td><td style = \"text-align: left;\">Float64</td></tr><tr><td class = \"rowNumber\" style = \"font-weight: bold; text-align: right;\">7</td><td style = \"text-align: left;\">Scenario</td><td style = \"font-style: italic; text-align: left;\"></td><td style = \"text-align: left;\">Inv_H2_Local_1.0x_bin_15645319</td><td style = \"font-style: italic; text-align: left;\"></td><td style = \"text-align: left;\">Inv_NH3_PPA_2.0x_cont_15645341</td><td style = \"text-align: right;\">0</td><td style = \"text-align: left;\">String</td></tr></tbody></table></div>"
      ],
      "text/latex": [
       "\\begin{tabular}{r|cccccc}\n",
       "\t& variable & mean & min & median & max & \\\\\n",
       "\t\\hline\n",
       "\t& Symbol & Union… & Any & Any & Any & \\\\\n",
       "\t\\hline\n",
       "\t1 & Parameter &  & unit\\_flow &  & unit\\_flow & $\\dots$ \\\\\n",
       "\t2 & Unit &  & ASU &  & NH3\\_syn\\_10 & $\\dots$ \\\\\n",
       "\t3 & Node &  & BESS &  & Steam\\_out & $\\dots$ \\\\\n",
       "\t4 & Direction &  & from\\_node &  & to\\_node & $\\dots$ \\\\\n",
       "\t5 & Time &  & 2019-01-01T00:00:00 & 2019-07-01T00:00:00 & 2019-12-30T23:00:00 & $\\dots$ \\\\\n",
       "\t6 & Value & 16.3883 & -1.41754e-6 & 3.47203 & 185.314 & $\\dots$ \\\\\n",
       "\t7 & Scenario &  & Inv\\_H2\\_Local\\_1.0x\\_bin\\_15645319 &  & Inv\\_NH3\\_PPA\\_2.0x\\_cont\\_15645341 & $\\dots$ \\\\\n",
       "\\end{tabular}\n"
      ],
      "text/plain": [
       "\u001b[1m7×7 DataFrame\u001b[0m\n",
       "\u001b[1m Row \u001b[0m│\u001b[1m variable  \u001b[0m\u001b[1m mean    \u001b[0m\u001b[1m min                            \u001b[0m\u001b[1m median             \u001b[0m ⋯\n",
       "     │\u001b[90m Symbol    \u001b[0m\u001b[90m Union…  \u001b[0m\u001b[90m Any                            \u001b[0m\u001b[90m Any                \u001b[0m ⋯\n",
       "─────┼──────────────────────────────────────────────────────────────────────────\n",
       "   1 │ Parameter \u001b[90m         \u001b[0m unit_flow                      \u001b[90m                    \u001b[0m ⋯\n",
       "   2 │ Unit      \u001b[90m         \u001b[0m ASU                            \u001b[90m                    \u001b[0m\n",
       "   3 │ Node      \u001b[90m         \u001b[0m BESS                           \u001b[90m                    \u001b[0m\n",
       "   4 │ Direction \u001b[90m         \u001b[0m from_node                      \u001b[90m                    \u001b[0m\n",
       "   5 │ Time      \u001b[90m         \u001b[0m 2019-01-01T00:00:00             2019-07-01T00:00:00 ⋯\n",
       "   6 │ Value      16.3883  -1.41754e-6                     3.47203\n",
       "   7 │ Scenario  \u001b[90m         \u001b[0m Inv_H2_Local_1.0x_bin_15645319 \u001b[90m                    \u001b[0m\n",
       "\u001b[36m                                                               3 columns omitted\u001b[0m"
      ]
     },
     "metadata": {},
     "output_type": "display_data"
    }
   ],
   "source": [
    "data_flows = CSV.read(\".spinetoolbox\\\\items\\\\export-unit_flow\\\\output\\\\unit_flow.csv\", DataFrame);\n",
    "describe(data_flows)"
   ]
  },
  {
   "cell_type": "code",
   "execution_count": 32,
   "metadata": {},
   "outputs": [
    {
     "data": {
      "text/html": [
       "<div><div style = \"float: left;\"><span>5×7 DataFrame</span></div><div style = \"clear: both;\"></div></div><div class = \"data-frame\" style = \"overflow-x: scroll;\"><table class = \"data-frame\" style = \"margin-bottom: 6px;\"><thead><tr class = \"header\"><th class = \"rowNumber\" style = \"font-weight: bold; text-align: right;\">Row</th><th style = \"text-align: left;\">variable</th><th style = \"text-align: left;\">mean</th><th style = \"text-align: left;\">min</th><th style = \"text-align: left;\">median</th><th style = \"text-align: left;\">max</th><th style = \"text-align: left;\">nmissing</th><th style = \"text-align: left;\">eltype</th></tr><tr class = \"subheader headerLastRow\"><th class = \"rowNumber\" style = \"font-weight: bold; text-align: right;\"></th><th title = \"Symbol\" style = \"text-align: left;\">Symbol</th><th title = \"Union{Nothing, Float64}\" style = \"text-align: left;\">Union…</th><th title = \"Any\" style = \"text-align: left;\">Any</th><th title = \"Any\" style = \"text-align: left;\">Any</th><th title = \"Any\" style = \"text-align: left;\">Any</th><th title = \"Int64\" style = \"text-align: left;\">Int64</th><th title = \"DataType\" style = \"text-align: left;\">DataType</th></tr></thead><tbody><tr><td class = \"rowNumber\" style = \"font-weight: bold; text-align: right;\">1</td><td style = \"text-align: left;\">Parameter</td><td style = \"font-style: italic; text-align: left;\"></td><td style = \"text-align: left;\">units_available</td><td style = \"font-style: italic; text-align: left;\"></td><td style = \"text-align: left;\">units_started_up</td><td style = \"text-align: right;\">0</td><td style = \"text-align: left;\">String31</td></tr><tr><td class = \"rowNumber\" style = \"font-weight: bold; text-align: right;\">2</td><td style = \"text-align: left;\">Unit</td><td style = \"font-style: italic; text-align: left;\"></td><td style = \"text-align: left;\">ASU</td><td style = \"font-style: italic; text-align: left;\"></td><td style = \"text-align: left;\">NH3_syn_10</td><td style = \"text-align: right;\">0</td><td style = \"text-align: left;\">String15</td></tr><tr><td class = \"rowNumber\" style = \"font-weight: bold; text-align: right;\">3</td><td style = \"text-align: left;\">Time</td><td style = \"font-style: italic; text-align: left;\"></td><td style = \"text-align: left;\">2019-01-01T00:00:00</td><td style = \"text-align: left;\">2019-07-01T08:00:00</td><td style = \"text-align: left;\">2019-12-30T23:00:00</td><td style = \"text-align: right;\">0</td><td style = \"text-align: left;\">DateTime</td></tr><tr><td class = \"rowNumber\" style = \"font-weight: bold; text-align: right;\">4</td><td style = \"text-align: left;\">Value</td><td style = \"text-align: left;\">26.2865</td><td style = \"text-align: left;\">7.52704e-5</td><td style = \"text-align: left;\">1.0</td><td style = \"text-align: left;\">222.0</td><td style = \"text-align: right;\">0</td><td style = \"text-align: left;\">Float64</td></tr><tr><td class = \"rowNumber\" style = \"font-weight: bold; text-align: right;\">5</td><td style = \"text-align: left;\">Scenario</td><td style = \"font-style: italic; text-align: left;\"></td><td style = \"text-align: left;\">Inv_H2_Local_1.0x_bin_15645319</td><td style = \"font-style: italic; text-align: left;\"></td><td style = \"text-align: left;\">Inv_NH3_PPA_2.0x_cont_15645341</td><td style = \"text-align: right;\">0</td><td style = \"text-align: left;\">String</td></tr></tbody></table></div>"
      ],
      "text/latex": [
       "\\begin{tabular}{r|cccccc}\n",
       "\t& variable & mean & min & median & max & \\\\\n",
       "\t\\hline\n",
       "\t& Symbol & Union… & Any & Any & Any & \\\\\n",
       "\t\\hline\n",
       "\t1 & Parameter &  & units\\_available &  & units\\_started\\_up & $\\dots$ \\\\\n",
       "\t2 & Unit &  & ASU &  & NH3\\_syn\\_10 & $\\dots$ \\\\\n",
       "\t3 & Time &  & 2019-01-01T00:00:00 & 2019-07-01T08:00:00 & 2019-12-30T23:00:00 & $\\dots$ \\\\\n",
       "\t4 & Value & 26.2865 & 7.52704e-5 & 1.0 & 222.0 & $\\dots$ \\\\\n",
       "\t5 & Scenario &  & Inv\\_H2\\_Local\\_1.0x\\_bin\\_15645319 &  & Inv\\_NH3\\_PPA\\_2.0x\\_cont\\_15645341 & $\\dots$ \\\\\n",
       "\\end{tabular}\n"
      ],
      "text/plain": [
       "\u001b[1m5×7 DataFrame\u001b[0m\n",
       "\u001b[1m Row \u001b[0m│\u001b[1m variable  \u001b[0m\u001b[1m mean    \u001b[0m\u001b[1m min                            \u001b[0m\u001b[1m median             \u001b[0m ⋯\n",
       "     │\u001b[90m Symbol    \u001b[0m\u001b[90m Union…  \u001b[0m\u001b[90m Any                            \u001b[0m\u001b[90m Any                \u001b[0m ⋯\n",
       "─────┼──────────────────────────────────────────────────────────────────────────\n",
       "   1 │ Parameter \u001b[90m         \u001b[0m units_available                \u001b[90m                    \u001b[0m ⋯\n",
       "   2 │ Unit      \u001b[90m         \u001b[0m ASU                            \u001b[90m                    \u001b[0m\n",
       "   3 │ Time      \u001b[90m         \u001b[0m 2019-01-01T00:00:00             2019-07-01T08:00:00\n",
       "   4 │ Value      26.2865  7.52704e-5                      1.0\n",
       "   5 │ Scenario  \u001b[90m         \u001b[0m Inv_H2_Local_1.0x_bin_15645319 \u001b[90m                    \u001b[0m ⋯\n",
       "\u001b[36m                                                               3 columns omitted\u001b[0m"
      ]
     },
     "metadata": {},
     "output_type": "display_data"
    }
   ],
   "source": [
    "data_units = CSV.read(\".spinetoolbox\\\\items\\\\export-units\\\\output\\\\units.csv\", DataFrame);\n",
    "describe(data_units)"
   ]
  },
  {
   "cell_type": "code",
   "execution_count": 33,
   "metadata": {},
   "outputs": [
    {
     "data": {
      "text/html": [
       "<div><div style = \"float: left;\"><span>5×7 DataFrame</span></div><div style = \"clear: both;\"></div></div><div class = \"data-frame\" style = \"overflow-x: scroll;\"><table class = \"data-frame\" style = \"margin-bottom: 6px;\"><thead><tr class = \"header\"><th class = \"rowNumber\" style = \"font-weight: bold; text-align: right;\">Row</th><th style = \"text-align: left;\">variable</th><th style = \"text-align: left;\">mean</th><th style = \"text-align: left;\">min</th><th style = \"text-align: left;\">median</th><th style = \"text-align: left;\">max</th><th style = \"text-align: left;\">nmissing</th><th style = \"text-align: left;\">eltype</th></tr><tr class = \"subheader headerLastRow\"><th class = \"rowNumber\" style = \"font-weight: bold; text-align: right;\"></th><th title = \"Symbol\" style = \"text-align: left;\">Symbol</th><th title = \"Union{Nothing, Float64}\" style = \"text-align: left;\">Union…</th><th title = \"Any\" style = \"text-align: left;\">Any</th><th title = \"Any\" style = \"text-align: left;\">Any</th><th title = \"Any\" style = \"text-align: left;\">Any</th><th title = \"Int64\" style = \"text-align: left;\">Int64</th><th title = \"DataType\" style = \"text-align: left;\">DataType</th></tr></thead><tbody><tr><td class = \"rowNumber\" style = \"font-weight: bold; text-align: right;\">1</td><td style = \"text-align: left;\">Parameter</td><td style = \"font-style: italic; text-align: left;\"></td><td style = \"text-align: left;\">node_injection</td><td style = \"font-style: italic; text-align: left;\"></td><td style = \"text-align: left;\">storages_invested_available</td><td style = \"text-align: right;\">0</td><td style = \"text-align: left;\">String31</td></tr><tr><td class = \"rowNumber\" style = \"font-weight: bold; text-align: right;\">2</td><td style = \"text-align: left;\">Node</td><td style = \"font-style: italic; text-align: left;\"></td><td style = \"text-align: left;\">BESS</td><td style = \"font-style: italic; text-align: left;\"></td><td style = \"text-align: left;\">Steam_out</td><td style = \"text-align: right;\">0</td><td style = \"text-align: left;\">String31</td></tr><tr><td class = \"rowNumber\" style = \"font-weight: bold; text-align: right;\">3</td><td style = \"text-align: left;\">Time</td><td style = \"font-style: italic; text-align: left;\"></td><td style = \"text-align: left;\">2019-01-01T00:00:00</td><td style = \"text-align: left;\">2019-06-30T20:00:00</td><td style = \"text-align: left;\">2019-12-30T23:00:00</td><td style = \"text-align: right;\">0</td><td style = \"text-align: left;\">DateTime</td></tr><tr><td class = \"rowNumber\" style = \"font-weight: bold; text-align: right;\">4</td><td style = \"text-align: left;\">Value</td><td style = \"text-align: left;\">6.59867</td><td style = \"text-align: left;\">-17.9818</td><td style = \"text-align: left;\">0.61125</td><td style = \"text-align: left;\">185.314</td><td style = \"text-align: right;\">0</td><td style = \"text-align: left;\">Float64</td></tr><tr><td class = \"rowNumber\" style = \"font-weight: bold; text-align: right;\">5</td><td style = \"text-align: left;\">Scenario</td><td style = \"font-style: italic; text-align: left;\"></td><td style = \"text-align: left;\">Inv_H2_Local_1.0x_bin_15645319</td><td style = \"font-style: italic; text-align: left;\"></td><td style = \"text-align: left;\">Inv_NH3_PPA_2.0x_cont_15645341</td><td style = \"text-align: right;\">0</td><td style = \"text-align: left;\">String</td></tr></tbody></table></div>"
      ],
      "text/latex": [
       "\\begin{tabular}{r|cccccc}\n",
       "\t& variable & mean & min & median & max & \\\\\n",
       "\t\\hline\n",
       "\t& Symbol & Union… & Any & Any & Any & \\\\\n",
       "\t\\hline\n",
       "\t1 & Parameter &  & node\\_injection &  & storages\\_invested\\_available & $\\dots$ \\\\\n",
       "\t2 & Node &  & BESS &  & Steam\\_out & $\\dots$ \\\\\n",
       "\t3 & Time &  & 2019-01-01T00:00:00 & 2019-06-30T20:00:00 & 2019-12-30T23:00:00 & $\\dots$ \\\\\n",
       "\t4 & Value & 6.59867 & -17.9818 & 0.61125 & 185.314 & $\\dots$ \\\\\n",
       "\t5 & Scenario &  & Inv\\_H2\\_Local\\_1.0x\\_bin\\_15645319 &  & Inv\\_NH3\\_PPA\\_2.0x\\_cont\\_15645341 & $\\dots$ \\\\\n",
       "\\end{tabular}\n"
      ],
      "text/plain": [
       "\u001b[1m5×7 DataFrame\u001b[0m\n",
       "\u001b[1m Row \u001b[0m│\u001b[1m variable  \u001b[0m\u001b[1m mean    \u001b[0m\u001b[1m min                            \u001b[0m\u001b[1m median             \u001b[0m ⋯\n",
       "     │\u001b[90m Symbol    \u001b[0m\u001b[90m Union…  \u001b[0m\u001b[90m Any                            \u001b[0m\u001b[90m Any                \u001b[0m ⋯\n",
       "─────┼──────────────────────────────────────────────────────────────────────────\n",
       "   1 │ Parameter \u001b[90m         \u001b[0m node_injection                 \u001b[90m                    \u001b[0m ⋯\n",
       "   2 │ Node      \u001b[90m         \u001b[0m BESS                           \u001b[90m                    \u001b[0m\n",
       "   3 │ Time      \u001b[90m         \u001b[0m 2019-01-01T00:00:00             2019-06-30T20:00:00\n",
       "   4 │ Value      6.59867  -17.9818                        0.61125\n",
       "   5 │ Scenario  \u001b[90m         \u001b[0m Inv_H2_Local_1.0x_bin_15645319 \u001b[90m                    \u001b[0m ⋯\n",
       "\u001b[36m                                                               3 columns omitted\u001b[0m"
      ]
     },
     "metadata": {},
     "output_type": "display_data"
    }
   ],
   "source": [
    "data_nodes = CSV.read(\".spinetoolbox\\\\items\\\\export-node\\\\output\\\\nodes.csv\", DataFrame);\n",
    "describe(data_nodes)"
   ]
  },
  {
   "cell_type": "code",
   "execution_count": 34,
   "metadata": {},
   "outputs": [
    {
     "data": {
      "text/plain": [
       "4-element Vector{String31}:\n",
       " \"storages_invested_available\"\n",
       " \"node_injection\"\n",
       " \"storages_invested\"\n",
       " \"node_state\""
      ]
     },
     "metadata": {},
     "output_type": "display_data"
    }
   ],
   "source": [
    "unique(data_nodes[!, :Parameter])"
   ]
  },
  {
   "cell_type": "code",
   "execution_count": 35,
   "metadata": {},
   "outputs": [
    {
     "data": {
      "text/plain": [
       "1-element Vector{String15}:\n",
       " \"unit_flow\""
      ]
     },
     "metadata": {},
     "output_type": "display_data"
    }
   ],
   "source": [
    "unique(data_flows[!, :Parameter])"
   ]
  },
  {
   "cell_type": "code",
   "execution_count": 36,
   "metadata": {},
   "outputs": [],
   "source": [
    "flows = filter(:Parameter => n -> n == \"unit_flow\", data_flows);"
   ]
  },
  {
   "cell_type": "code",
   "execution_count": 37,
   "metadata": {},
   "outputs": [],
   "source": [
    "# negative values for flows to nodes\n",
    "flows[!, :Value] = flows[!, :Value] .* ((flows[!, :Direction] .== \"to_node\") .* (-2) .+ 1);"
   ]
  },
  {
   "cell_type": "code",
   "execution_count": 38,
   "metadata": {},
   "outputs": [],
   "source": [
    "# rename synthesizers for multiple binary\n",
    "flows_new = filter(:Unit => n -> contains(n, \"syn_\"), flows)\n",
    "flows_new[!, :Unit] = chop.(flows_new[!, :Unit], tail=3)\n",
    "# add to overall df, eliminate old\n",
    "append!(flows, flows_new);\n",
    "flows = filter(:Unit => n -> !contains(n, \"syn_\"), flows);"
   ]
  },
  {
   "cell_type": "code",
   "execution_count": 39,
   "metadata": {},
   "outputs": [],
   "source": [
    "# construct synthesizer cap from binary variables\n",
    "data_units_new = filter(:Unit => n -> contains(n, \"syn_\"), data_units)\n",
    "data_units_new[!, :Value] = data_units_new[!, :Value] .* parse.(Int, map(s -> s[end-1:end], data_units_new[!, :Unit]))\n",
    "data_units_new[!, :Unit] = chop.(data_units_new[!, :Unit], tail=3)\n",
    "# add to overall df, eliminate old\n",
    "append!(data_units, data_units_new);\n",
    "data_units = filter(:Unit => n -> !contains(n, \"syn_\"), data_units);"
   ]
  },
  {
   "cell_type": "code",
   "execution_count": 40,
   "metadata": {},
   "outputs": [
    {
     "name": "stdout",
     "output_type": "stream",
     "text": [
      "us = [\"Inv_H2_Local_1.0x_bin_15645319\", \"Inv_H2_Local_1.0x_cont_15645320\", \"Inv_H2_Local_1.5x_bin_15645321\", \"Inv_H2_Local_2.0x_bin_15645322\", \"Inv_H2_Local_2.0x_cont_15645323\", \"Inv_H2_PPA_1.0x_bin_15645324\", \"Inv_H2_PPA_1.0x_cont_15645325\", \"Inv_H2_PPA_1.5x_bin_15645326\", \"Inv_H2_PPA_2.0x_bin_15645327\", \"Inv_H2_PPA_2.0x_cont_15645328\", \"Inv_MeOH_PPA_1.0x_bin_15645329\", \"Inv_MeOH_PPA_1.0x_bin_opt_15645330\", \"Inv_MeOH_PPA_1.0x_cont_15645332\", \"Inv_MeOH_PPA_1.5x_bin_15645333\", \"Inv_MeOH_PPA_2.0x_bin_15645334\", \"Inv_MeOH_PPA_2.0x_cont_15645335\", \"Inv_NH3_PPA_1.0x_bin_15645336\", \"Inv_NH3_PPA_1.0x_bin_opt_15645337\", \"Inv_NH3_PPA_1.0x_cont_15645338\", \"Inv_NH3_PPA_1.5x_bin_15645339\", \"Inv_NH3_PPA_2.0x_bin_15645340\", \"Inv_NH3_PPA_2.0x_cont_15645341\"]\n"
     ]
    },
    {
     "data": {
      "text/plain": [
       "22-element Vector{String}:\n",
       " \"Inv_H2_Local_1.0x_bin_15645319\"\n",
       " \"Inv_H2_Local_1.0x_cont_15645320\"\n",
       " \"Inv_H2_Local_1.5x_bin_15645321\"\n",
       " \"Inv_H2_Local_2.0x_bin_15645322\"\n",
       " \"Inv_H2_Local_2.0x_cont_15645323\"\n",
       " \"Inv_H2_PPA_1.0x_bin_15645324\"\n",
       " \"Inv_H2_PPA_1.0x_cont_15645325\"\n",
       " \"Inv_H2_PPA_1.5x_bin_15645326\"\n",
       " \"Inv_H2_PPA_2.0x_bin_15645327\"\n",
       " \"Inv_H2_PPA_2.0x_cont_15645328\"\n",
       " ⋮\n",
       " \"Inv_MeOH_PPA_1.5x_bin_15645333\"\n",
       " \"Inv_MeOH_PPA_2.0x_bin_15645334\"\n",
       " \"Inv_MeOH_PPA_2.0x_cont_15645335\"\n",
       " \"Inv_NH3_PPA_1.0x_bin_15645336\"\n",
       " \"Inv_NH3_PPA_1.0x_bin_opt_15645337\"\n",
       " \"Inv_NH3_PPA_1.0x_cont_15645338\"\n",
       " \"Inv_NH3_PPA_1.5x_bin_15645339\"\n",
       " \"Inv_NH3_PPA_2.0x_bin_15645340\"\n",
       " \"Inv_NH3_PPA_2.0x_cont_15645341\""
      ]
     },
     "metadata": {},
     "output_type": "display_data"
    }
   ],
   "source": [
    "us = sort!(unique(flows.Scenario))\n",
    "@show us"
   ]
  },
  {
   "cell_type": "code",
   "execution_count": 41,
   "metadata": {},
   "outputs": [
    {
     "data": {
      "text/html": [
       "<div><div style = \"float: left;\"><span>8×7 DataFrame</span></div><div style = \"clear: both;\"></div></div><div class = \"data-frame\" style = \"overflow-x: scroll;\"><table class = \"data-frame\" style = \"margin-bottom: 6px;\"><thead><tr class = \"header\"><th class = \"rowNumber\" style = \"font-weight: bold; text-align: right;\">Row</th><th style = \"text-align: left;\">variable</th><th style = \"text-align: left;\">mean</th><th style = \"text-align: left;\">min</th><th style = \"text-align: left;\">median</th><th style = \"text-align: left;\">max</th><th style = \"text-align: left;\">nmissing</th><th style = \"text-align: left;\">eltype</th></tr><tr class = \"subheader headerLastRow\"><th class = \"rowNumber\" style = \"font-weight: bold; text-align: right;\"></th><th title = \"Symbol\" style = \"text-align: left;\">Symbol</th><th title = \"Union{Nothing, Float64}\" style = \"text-align: left;\">Union…</th><th title = \"Any\" style = \"text-align: left;\">Any</th><th title = \"Any\" style = \"text-align: left;\">Any</th><th title = \"Any\" style = \"text-align: left;\">Any</th><th title = \"Int64\" style = \"text-align: left;\">Int64</th><th title = \"DataType\" style = \"text-align: left;\">DataType</th></tr></thead><tbody><tr><td class = \"rowNumber\" style = \"font-weight: bold; text-align: right;\">1</td><td style = \"text-align: left;\">Parameter</td><td style = \"font-style: italic; text-align: left;\"></td><td style = \"text-align: left;\">unit_flow</td><td style = \"font-style: italic; text-align: left;\"></td><td style = \"text-align: left;\">unit_flow</td><td style = \"text-align: right;\">0</td><td style = \"text-align: left;\">String15</td></tr><tr><td class = \"rowNumber\" style = \"font-weight: bold; text-align: right;\">2</td><td style = \"text-align: left;\">Unit</td><td style = \"font-style: italic; text-align: left;\"></td><td style = \"text-align: left;\">ASU</td><td style = \"font-style: italic; text-align: left;\"></td><td style = \"text-align: left;\">NH3_syn</td><td style = \"text-align: right;\">0</td><td style = \"text-align: left;\">String15</td></tr><tr><td class = \"rowNumber\" style = \"font-weight: bold; text-align: right;\">3</td><td style = \"text-align: left;\">Node</td><td style = \"font-style: italic; text-align: left;\"></td><td style = \"text-align: left;\">BESS</td><td style = \"font-style: italic; text-align: left;\"></td><td style = \"text-align: left;\">Steam_out</td><td style = \"text-align: right;\">0</td><td style = \"text-align: left;\">String31</td></tr><tr><td class = \"rowNumber\" style = \"font-weight: bold; text-align: right;\">4</td><td style = \"text-align: left;\">Direction</td><td style = \"font-style: italic; text-align: left;\"></td><td style = \"text-align: left;\">from_node</td><td style = \"font-style: italic; text-align: left;\"></td><td style = \"text-align: left;\">to_node</td><td style = \"text-align: right;\">0</td><td style = \"text-align: left;\">String15</td></tr><tr><td class = \"rowNumber\" style = \"font-weight: bold; text-align: right;\">5</td><td style = \"text-align: left;\">Time</td><td style = \"font-style: italic; text-align: left;\"></td><td style = \"text-align: left;\">2019-01-01T00:00:00</td><td style = \"text-align: left;\">2019-07-01T00:00:00</td><td style = \"text-align: left;\">2019-12-30T23:00:00</td><td style = \"text-align: right;\">0</td><td style = \"text-align: left;\">DateTime</td></tr><tr><td class = \"rowNumber\" style = \"font-weight: bold; text-align: right;\">6</td><td style = \"text-align: left;\">Value</td><td style = \"text-align: left;\">-2.33572</td><td style = \"text-align: left;\">-185.314</td><td style = \"text-align: left;\">-0.156563</td><td style = \"text-align: left;\">185.314</td><td style = \"text-align: right;\">0</td><td style = \"text-align: left;\">Float64</td></tr><tr><td class = \"rowNumber\" style = \"font-weight: bold; text-align: right;\">7</td><td style = \"text-align: left;\">Scenario</td><td style = \"font-style: italic; text-align: left;\"></td><td style = \"text-align: left;\">Inv_H2_Local_1.0x_bin_15645319</td><td style = \"font-style: italic; text-align: left;\"></td><td style = \"text-align: left;\">Inv_NH3_PPA_2.0x_cont_15645341</td><td style = \"text-align: right;\">0</td><td style = \"text-align: left;\">String</td></tr><tr><td class = \"rowNumber\" style = \"font-weight: bold; text-align: right;\">8</td><td style = \"text-align: left;\">Unit_int</td><td style = \"text-align: left;\">8.70912</td><td style = \"text-align: left;\">1</td><td style = \"text-align: left;\">9.0</td><td style = \"text-align: left;\">15</td><td style = \"text-align: right;\">0</td><td style = \"text-align: left;\">Int64</td></tr></tbody></table></div>"
      ],
      "text/latex": [
       "\\begin{tabular}{r|cccccc}\n",
       "\t& variable & mean & min & median & max & \\\\\n",
       "\t\\hline\n",
       "\t& Symbol & Union… & Any & Any & Any & \\\\\n",
       "\t\\hline\n",
       "\t1 & Parameter &  & unit\\_flow &  & unit\\_flow & $\\dots$ \\\\\n",
       "\t2 & Unit &  & ASU &  & NH3\\_syn & $\\dots$ \\\\\n",
       "\t3 & Node &  & BESS &  & Steam\\_out & $\\dots$ \\\\\n",
       "\t4 & Direction &  & from\\_node &  & to\\_node & $\\dots$ \\\\\n",
       "\t5 & Time &  & 2019-01-01T00:00:00 & 2019-07-01T00:00:00 & 2019-12-30T23:00:00 & $\\dots$ \\\\\n",
       "\t6 & Value & -2.33572 & -185.314 & -0.156563 & 185.314 & $\\dots$ \\\\\n",
       "\t7 & Scenario &  & Inv\\_H2\\_Local\\_1.0x\\_bin\\_15645319 &  & Inv\\_NH3\\_PPA\\_2.0x\\_cont\\_15645341 & $\\dots$ \\\\\n",
       "\t8 & Unit\\_int & 8.70912 & 1 & 9.0 & 15 & $\\dots$ \\\\\n",
       "\\end{tabular}\n"
      ],
      "text/plain": [
       "\u001b[1m8×7 DataFrame\u001b[0m\n",
       "\u001b[1m Row \u001b[0m│\u001b[1m variable  \u001b[0m\u001b[1m mean     \u001b[0m\u001b[1m min                            \u001b[0m\u001b[1m median            \u001b[0m ⋯\n",
       "     │\u001b[90m Symbol    \u001b[0m\u001b[90m Union…   \u001b[0m\u001b[90m Any                            \u001b[0m\u001b[90m Any               \u001b[0m ⋯\n",
       "─────┼──────────────────────────────────────────────────────────────────────────\n",
       "   1 │ Parameter \u001b[90m          \u001b[0m unit_flow                      \u001b[90m                   \u001b[0m ⋯\n",
       "   2 │ Unit      \u001b[90m          \u001b[0m ASU                            \u001b[90m                   \u001b[0m\n",
       "   3 │ Node      \u001b[90m          \u001b[0m BESS                           \u001b[90m                   \u001b[0m\n",
       "   4 │ Direction \u001b[90m          \u001b[0m from_node                      \u001b[90m                   \u001b[0m\n",
       "   5 │ Time      \u001b[90m          \u001b[0m 2019-01-01T00:00:00             2019-07-01T00:00:0 ⋯\n",
       "   6 │ Value      -2.33572  -185.314                        -0.156563\n",
       "   7 │ Scenario  \u001b[90m          \u001b[0m Inv_H2_Local_1.0x_bin_15645319 \u001b[90m                   \u001b[0m\n",
       "   8 │ Unit_int   8.70912   1                               9.0\n",
       "\u001b[36m                                                               4 columns omitted\u001b[0m"
      ]
     },
     "metadata": {},
     "output_type": "display_data"
    }
   ],
   "source": [
    "# Units\n",
    "uu = sort!(unique(flows.Unit))\n",
    "legend_u = [\"El_curtail\", \"El_PPA_curtail\", \"El_wind\", \"El_wind_inv\", \"El_PV\", \"El_PV_inv\", \"BESS_charge\", \"BESS_discharge\", \"H2_syn\",\n",
    "            \"H2_compress\", \"H2_decompress\", \"H2_discharge\", \"MeOH_syn\", \"NH3_syn\", \"ASU\"];\n",
    "\n",
    "# Add unique integer labels for units/scenarios\n",
    "dict_u = Dict(legend_u .=> 1: length(legend_u));\n",
    "dict_s = Dict(us .=> 1: length(us));\n",
    "\n",
    "# for flows\n",
    "flows[!, :Unit_int] = [dict_u[x] for x in flows.Unit];\n",
    "\n",
    "# for units\n",
    "data_units[!, :Unit_int] = [dict_u[x] for x in data_units.Unit];\n",
    "data_units[!, :Scenario_int] = [dict_s[x] for x in data_units.Scenario];\n",
    "\n",
    "# decide on according color\n",
    "colors_u = [            \n",
    "            :red1,              #El_curtail\n",
    "            :red3,              #El_PPA_curtail\n",
    "            :turquoise1,        #El_wind\n",
    "            :turquoise3,        #El_wind_inv\n",
    "            :gold1,             #El_PV\n",
    "            :gold3,             #El_PV_inv\n",
    "            :darkolivegreen1,   #BESS_charge\n",
    "            :yellow3,           #BESS_discharge \n",
    "            :royalblue,         #H2_syn\n",
    "            #:magenta3,          #El_mFRR_activation\n",
    "            :steelblue4,        #H2_compress  \n",
    "            :lightsteelblue1,   #H2_decompress  \n",
    "            #:orchid,            #H2_convert_El\n",
    "            :blue1,             #H2_discharge\n",
    "            :darkorange1,       #MeOH_syn\n",
    "            :purple4,           #NH3_syn\n",
    "            :plum3,             #ASU\n",
    "            ]\n",
    "\n",
    "describe(flows)"
   ]
  },
  {
   "cell_type": "code",
   "execution_count": 42,
   "metadata": {},
   "outputs": [
    {
     "data": {
      "text/plain": [
       "2-element PooledArrays.PooledVector{String31, UInt32, Vector{UInt32}}:\n",
       " \"BESS\"\n",
       " \"H2_storage\""
      ]
     },
     "metadata": {},
     "output_type": "display_data"
    }
   ],
   "source": [
    "# units invested in\n",
    "uiu = unique!(filter(:Parameter => n -> contains(n, \"invested_available\"), data_units).Unit)\n",
    "# nodes invested in\n",
    "uin = unique!(filter(:Parameter => n -> contains(n, \"invested_available\"), data_nodes).Node)"
   ]
  },
  {
   "cell_type": "code",
   "execution_count": 43,
   "metadata": {},
   "outputs": [
    {
     "data": {
      "text/plain": [
       "6-element Vector{String31}:\n",
       " \"units_started_up\"\n",
       " \"units_available\"\n",
       " \"units_invested\"\n",
       " \"units_shut_down\"\n",
       " \"units_on\"\n",
       " \"units_invested_available\""
      ]
     },
     "metadata": {},
     "output_type": "display_data"
    }
   ],
   "source": [
    "unique(data_units[!, :Parameter])"
   ]
  },
  {
   "cell_type": "code",
   "execution_count": 44,
   "metadata": {},
   "outputs": [
    {
     "data": {
      "text/html": [
       "<div><div style = \"float: left;\"><span>9×7 DataFrame</span></div><div style = \"clear: both;\"></div></div><div class = \"data-frame\" style = \"overflow-x: scroll;\"><table class = \"data-frame\" style = \"margin-bottom: 6px;\"><thead><tr class = \"header\"><th class = \"rowNumber\" style = \"font-weight: bold; text-align: right;\">Row</th><th style = \"text-align: left;\">variable</th><th style = \"text-align: left;\">mean</th><th style = \"text-align: left;\">min</th><th style = \"text-align: left;\">median</th><th style = \"text-align: left;\">max</th><th style = \"text-align: left;\">nmissing</th><th style = \"text-align: left;\">eltype</th></tr><tr class = \"subheader headerLastRow\"><th class = \"rowNumber\" style = \"font-weight: bold; text-align: right;\"></th><th title = \"Symbol\" style = \"text-align: left;\">Symbol</th><th title = \"Union{Nothing, Float64}\" style = \"text-align: left;\">Union…</th><th title = \"Any\" style = \"text-align: left;\">Any</th><th title = \"Any\" style = \"text-align: left;\">Any</th><th title = \"Any\" style = \"text-align: left;\">Any</th><th title = \"Int64\" style = \"text-align: left;\">Int64</th><th title = \"DataType\" style = \"text-align: left;\">DataType</th></tr></thead><tbody><tr><td class = \"rowNumber\" style = \"font-weight: bold; text-align: right;\">1</td><td style = \"text-align: left;\">Parameter</td><td style = \"font-style: italic; text-align: left;\"></td><td style = \"text-align: left;\">unit_flow</td><td style = \"font-style: italic; text-align: left;\"></td><td style = \"text-align: left;\">unit_flow</td><td style = \"text-align: right;\">0</td><td style = \"text-align: left;\">String15</td></tr><tr><td class = \"rowNumber\" style = \"font-weight: bold; text-align: right;\">2</td><td style = \"text-align: left;\">Unit</td><td style = \"font-style: italic; text-align: left;\"></td><td style = \"text-align: left;\">ASU</td><td style = \"font-style: italic; text-align: left;\"></td><td style = \"text-align: left;\">NH3_syn</td><td style = \"text-align: right;\">0</td><td style = \"text-align: left;\">String15</td></tr><tr><td class = \"rowNumber\" style = \"font-weight: bold; text-align: right;\">3</td><td style = \"text-align: left;\">Node</td><td style = \"font-style: italic; text-align: left;\"></td><td style = \"text-align: left;\">BESS</td><td style = \"font-style: italic; text-align: left;\"></td><td style = \"text-align: left;\">Steam_out</td><td style = \"text-align: right;\">0</td><td style = \"text-align: left;\">String31</td></tr><tr><td class = \"rowNumber\" style = \"font-weight: bold; text-align: right;\">4</td><td style = \"text-align: left;\">Direction</td><td style = \"font-style: italic; text-align: left;\"></td><td style = \"text-align: left;\">from_node</td><td style = \"font-style: italic; text-align: left;\"></td><td style = \"text-align: left;\">to_node</td><td style = \"text-align: right;\">0</td><td style = \"text-align: left;\">String15</td></tr><tr><td class = \"rowNumber\" style = \"font-weight: bold; text-align: right;\">5</td><td style = \"text-align: left;\">Time</td><td style = \"font-style: italic; text-align: left;\"></td><td style = \"text-align: left;\">2019-01-01T00:00:00</td><td style = \"text-align: left;\">2019-07-01T00:00:00</td><td style = \"text-align: left;\">2019-12-30T23:00:00</td><td style = \"text-align: right;\">0</td><td style = \"text-align: left;\">DateTime</td></tr><tr><td class = \"rowNumber\" style = \"font-weight: bold; text-align: right;\">6</td><td style = \"text-align: left;\">Value</td><td style = \"text-align: left;\">-2.33572</td><td style = \"text-align: left;\">-185.314</td><td style = \"text-align: left;\">-0.156563</td><td style = \"text-align: left;\">185.314</td><td style = \"text-align: right;\">0</td><td style = \"text-align: left;\">Float64</td></tr><tr><td class = \"rowNumber\" style = \"font-weight: bold; text-align: right;\">7</td><td style = \"text-align: left;\">Scenario</td><td style = \"font-style: italic; text-align: left;\"></td><td style = \"text-align: left;\">Inv_H2_Local_1.0x_bin_15645319</td><td style = \"font-style: italic; text-align: left;\"></td><td style = \"text-align: left;\">Inv_NH3_PPA_2.0x_cont_15645341</td><td style = \"text-align: right;\">0</td><td style = \"text-align: left;\">String</td></tr><tr><td class = \"rowNumber\" style = \"font-weight: bold; text-align: right;\">8</td><td style = \"text-align: left;\">Unit_int</td><td style = \"text-align: left;\">8.70912</td><td style = \"text-align: left;\">1</td><td style = \"text-align: left;\">9.0</td><td style = \"text-align: left;\">15</td><td style = \"text-align: right;\">0</td><td style = \"text-align: left;\">Int64</td></tr><tr><td class = \"rowNumber\" style = \"font-weight: bold; text-align: right;\">9</td><td style = \"text-align: left;\">Node_int</td><td style = \"text-align: left;\">10.0401</td><td style = \"text-align: left;\">1</td><td style = \"text-align: left;\">10.0</td><td style = \"text-align: left;\">21</td><td style = \"text-align: right;\">0</td><td style = \"text-align: left;\">Int64</td></tr></tbody></table></div>"
      ],
      "text/latex": [
       "\\begin{tabular}{r|cccccc}\n",
       "\t& variable & mean & min & median & max & \\\\\n",
       "\t\\hline\n",
       "\t& Symbol & Union… & Any & Any & Any & \\\\\n",
       "\t\\hline\n",
       "\t1 & Parameter &  & unit\\_flow &  & unit\\_flow & $\\dots$ \\\\\n",
       "\t2 & Unit &  & ASU &  & NH3\\_syn & $\\dots$ \\\\\n",
       "\t3 & Node &  & BESS &  & Steam\\_out & $\\dots$ \\\\\n",
       "\t4 & Direction &  & from\\_node &  & to\\_node & $\\dots$ \\\\\n",
       "\t5 & Time &  & 2019-01-01T00:00:00 & 2019-07-01T00:00:00 & 2019-12-30T23:00:00 & $\\dots$ \\\\\n",
       "\t6 & Value & -2.33572 & -185.314 & -0.156563 & 185.314 & $\\dots$ \\\\\n",
       "\t7 & Scenario &  & Inv\\_H2\\_Local\\_1.0x\\_bin\\_15645319 &  & Inv\\_NH3\\_PPA\\_2.0x\\_cont\\_15645341 & $\\dots$ \\\\\n",
       "\t8 & Unit\\_int & 8.70912 & 1 & 9.0 & 15 & $\\dots$ \\\\\n",
       "\t9 & Node\\_int & 10.0401 & 1 & 10.0 & 21 & $\\dots$ \\\\\n",
       "\\end{tabular}\n"
      ],
      "text/plain": [
       "\u001b[1m9×7 DataFrame\u001b[0m\n",
       "\u001b[1m Row \u001b[0m│\u001b[1m variable  \u001b[0m\u001b[1m mean     \u001b[0m\u001b[1m min                            \u001b[0m\u001b[1m median            \u001b[0m ⋯\n",
       "     │\u001b[90m Symbol    \u001b[0m\u001b[90m Union…   \u001b[0m\u001b[90m Any                            \u001b[0m\u001b[90m Any               \u001b[0m ⋯\n",
       "─────┼──────────────────────────────────────────────────────────────────────────\n",
       "   1 │ Parameter \u001b[90m          \u001b[0m unit_flow                      \u001b[90m                   \u001b[0m ⋯\n",
       "   2 │ Unit      \u001b[90m          \u001b[0m ASU                            \u001b[90m                   \u001b[0m\n",
       "   3 │ Node      \u001b[90m          \u001b[0m BESS                           \u001b[90m                   \u001b[0m\n",
       "   4 │ Direction \u001b[90m          \u001b[0m from_node                      \u001b[90m                   \u001b[0m\n",
       "   5 │ Time      \u001b[90m          \u001b[0m 2019-01-01T00:00:00             2019-07-01T00:00:0 ⋯\n",
       "   6 │ Value      -2.33572  -185.314                        -0.156563\n",
       "   7 │ Scenario  \u001b[90m          \u001b[0m Inv_H2_Local_1.0x_bin_15645319 \u001b[90m                   \u001b[0m\n",
       "   8 │ Unit_int   8.70912   1                               9.0\n",
       "   9 │ Node_int   10.0401   1                               10.0               ⋯\n",
       "\u001b[36m                                                               4 columns omitted\u001b[0m"
      ]
     },
     "metadata": {},
     "output_type": "display_data"
    }
   ],
   "source": [
    "# Nodes\n",
    "un = sort!(unique(flows[!, :Node]))\n",
    "legend_n = [\"El_curtailed\", \"El_PPA_curtailed\", \"El_renew\", \"BESS\", \"El_BESS\", \"El_PPA\", \"MeOH_out\", \"MEOH_out\", \"NH3_out\", \"H2\", \"H2_mFRR\", \"H2_storage\", \n",
    "            \"H2_decompressed\",  \"H2_out\", \"CO2_in\", \"H2O_in\", \"H2O_out\", \"Heat_out\", \"Steam_out\", \"N\", \"O_out\"]\n",
    "# Add unique integer labels for nodes\n",
    "dict_n = Dict(legend_n .=> 1: length(legend_n));\n",
    "\n",
    "# for flows\n",
    "flows[!, :Node_int] = [dict_n[x] for x in flows.Node];\n",
    "\n",
    "# for nodes\n",
    "data_nodes[!, :Node_int] = [dict_n[x] for x in data_nodes.Node];\n",
    "colors_n = [\n",
    "            :red1,              #El_curtailed\n",
    "            :red3,              #El_PPA_curtailed\n",
    "            :aquamarine1,       #El_renew\n",
    "            :darkolivegreen1,   #BESS\n",
    "            :olive,             #El_BESS\n",
    "            :aquamarine3,       #El_PPA\n",
    "            #:orchid,            #El_mFRR\n",
    "            #:magenta3,          #El_mFRR_out\n",
    "            #:grey40,            #El_other\n",
    "            :darkorange1,       #MeOH_out\n",
    "            :darkorange1,       #MEOH_out   delete later\n",
    "            :purple4,           #NH3_out\n",
    "            :royalblue3,        #H2\n",
    "            :mediumpurple2,     #H2_mFRR\n",
    "            :steelblue4,        #H2_storage \n",
    "            :royalblue1,        #H2_decompressed\n",
    "            :blue1,             #H2_out \n",
    "            :navajowhite3,      #CO2_in\n",
    "            :slategray1,        #H2O_in \n",
    "            :slategray3,        #H2O_out\n",
    "            :lightcoral,        #Heat_out   \n",
    "            :coral3,            #Steam_out \n",
    "            :honeydew3,         #N\n",
    "            :antiquewhite, ]    #O_out\n",
    "describe(flows)"
   ]
  },
  {
   "cell_type": "code",
   "execution_count": 45,
   "metadata": {},
   "outputs": [
    {
     "data": {
      "text/html": [
       "<div><div style = \"float: left;\"><span>5×7 DataFrame</span></div><div style = \"clear: both;\"></div></div><div class = \"data-frame\" style = \"overflow-x: scroll;\"><table class = \"data-frame\" style = \"margin-bottom: 6px;\"><thead><tr class = \"header\"><th class = \"rowNumber\" style = \"font-weight: bold; text-align: right;\">Row</th><th style = \"text-align: left;\">Unit</th><th style = \"text-align: left;\">Unit_int</th><th style = \"text-align: left;\">Node</th><th style = \"text-align: left;\">Node_int</th><th style = \"text-align: left;\">Scenario</th><th style = \"text-align: left;\">Time</th><th style = \"text-align: left;\">Value</th></tr><tr class = \"subheader headerLastRow\"><th class = \"rowNumber\" style = \"font-weight: bold; text-align: right;\"></th><th title = \"String15\" style = \"text-align: left;\">String15</th><th title = \"Int64\" style = \"text-align: left;\">Int64</th><th title = \"String31\" style = \"text-align: left;\">String31</th><th title = \"Int64\" style = \"text-align: left;\">Int64</th><th title = \"String\" style = \"text-align: left;\">String</th><th title = \"DateTime\" style = \"text-align: left;\">DateTime</th><th title = \"Float64\" style = \"text-align: left;\">Float64</th></tr></thead><tbody><tr><td class = \"rowNumber\" style = \"font-weight: bold; text-align: right;\">1</td><td style = \"text-align: left;\">H2_compress</td><td style = \"text-align: right;\">10</td><td style = \"text-align: left;\">El_BESS</td><td style = \"text-align: right;\">5</td><td style = \"text-align: left;\">Inv_H2_Local_2.0x_bin_15645322</td><td style = \"text-align: left;\">2019-01-01T05:00:00</td><td style = \"text-align: right;\">0.0237605</td></tr><tr><td class = \"rowNumber\" style = \"font-weight: bold; text-align: right;\">2</td><td style = \"text-align: left;\">H2_compress</td><td style = \"text-align: right;\">10</td><td style = \"text-align: left;\">El_BESS</td><td style = \"text-align: right;\">5</td><td style = \"text-align: left;\">Inv_H2_Local_2.0x_bin_15645322</td><td style = \"text-align: left;\">2019-01-01T17:00:00</td><td style = \"text-align: right;\">0.00475248</td></tr><tr><td class = \"rowNumber\" style = \"font-weight: bold; text-align: right;\">3</td><td style = \"text-align: left;\">H2_compress</td><td style = \"text-align: right;\">10</td><td style = \"text-align: left;\">El_BESS</td><td style = \"text-align: right;\">5</td><td style = \"text-align: left;\">Inv_H2_Local_2.0x_bin_15645322</td><td style = \"text-align: left;\">2019-01-02T08:00:00</td><td style = \"text-align: right;\">0.00475248</td></tr><tr><td class = \"rowNumber\" style = \"font-weight: bold; text-align: right;\">4</td><td style = \"text-align: left;\">H2_compress</td><td style = \"text-align: right;\">10</td><td style = \"text-align: left;\">El_BESS</td><td style = \"text-align: right;\">5</td><td style = \"text-align: left;\">Inv_H2_Local_2.0x_bin_15645322</td><td style = \"text-align: left;\">2019-01-02T10:00:00</td><td style = \"text-align: right;\">0.00475248</td></tr><tr><td class = \"rowNumber\" style = \"font-weight: bold; text-align: right;\">5</td><td style = \"text-align: left;\">H2_compress</td><td style = \"text-align: right;\">10</td><td style = \"text-align: left;\">El_BESS</td><td style = \"text-align: right;\">5</td><td style = \"text-align: left;\">Inv_H2_Local_2.0x_bin_15645322</td><td style = \"text-align: left;\">2019-01-05T11:00:00</td><td style = \"text-align: right;\">0.028512</td></tr></tbody></table></div>"
      ],
      "text/latex": [
       "\\begin{tabular}{r|ccccccc}\n",
       "\t& Unit & Unit\\_int & Node & Node\\_int & Scenario & Time & \\\\\n",
       "\t\\hline\n",
       "\t& String15 & Int64 & String31 & Int64 & String & DateTime & \\\\\n",
       "\t\\hline\n",
       "\t1 & H2\\_compress & 10 & El\\_BESS & 5 & Inv\\_H2\\_Local\\_2.0x\\_bin\\_15645322 & 2019-01-01T05:00:00 & $\\dots$ \\\\\n",
       "\t2 & H2\\_compress & 10 & El\\_BESS & 5 & Inv\\_H2\\_Local\\_2.0x\\_bin\\_15645322 & 2019-01-01T17:00:00 & $\\dots$ \\\\\n",
       "\t3 & H2\\_compress & 10 & El\\_BESS & 5 & Inv\\_H2\\_Local\\_2.0x\\_bin\\_15645322 & 2019-01-02T08:00:00 & $\\dots$ \\\\\n",
       "\t4 & H2\\_compress & 10 & El\\_BESS & 5 & Inv\\_H2\\_Local\\_2.0x\\_bin\\_15645322 & 2019-01-02T10:00:00 & $\\dots$ \\\\\n",
       "\t5 & H2\\_compress & 10 & El\\_BESS & 5 & Inv\\_H2\\_Local\\_2.0x\\_bin\\_15645322 & 2019-01-05T11:00:00 & $\\dots$ \\\\\n",
       "\\end{tabular}\n"
      ],
      "text/plain": [
       "\u001b[1m5×7 DataFrame\u001b[0m\n",
       "\u001b[1m Row \u001b[0m│\u001b[1m Unit        \u001b[0m\u001b[1m Unit_int \u001b[0m\u001b[1m Node     \u001b[0m\u001b[1m Node_int \u001b[0m\u001b[1m Scenario                    \u001b[0m ⋯\n",
       "     │\u001b[90m String15    \u001b[0m\u001b[90m Int64    \u001b[0m\u001b[90m String31 \u001b[0m\u001b[90m Int64    \u001b[0m\u001b[90m String                      \u001b[0m ⋯\n",
       "─────┼──────────────────────────────────────────────────────────────────────────\n",
       "   1 │ H2_compress        10  El_BESS          5  Inv_H2_Local_2.0x_bin_156453 ⋯\n",
       "   2 │ H2_compress        10  El_BESS          5  Inv_H2_Local_2.0x_bin_156453\n",
       "   3 │ H2_compress        10  El_BESS          5  Inv_H2_Local_2.0x_bin_156453\n",
       "   4 │ H2_compress        10  El_BESS          5  Inv_H2_Local_2.0x_bin_156453\n",
       "   5 │ H2_compress        10  El_BESS          5  Inv_H2_Local_2.0x_bin_156453 ⋯\n",
       "\u001b[36m                                                               3 columns omitted\u001b[0m"
      ]
     },
     "metadata": {},
     "output_type": "display_data"
    }
   ],
   "source": [
    "flow_hourly = flows[:, [:Unit, :Unit_int, :Node, :Node_int, :Scenario, :Time, :Value]]\n",
    "first(flow_hourly,5)"
   ]
  },
  {
   "cell_type": "code",
   "execution_count": 46,
   "metadata": {},
   "outputs": [
    {
     "data": {
      "text/html": [
       "<div><div style = \"float: left;\"><span>3×6 DataFrame</span></div><div style = \"clear: both;\"></div></div><div class = \"data-frame\" style = \"overflow-x: scroll;\"><table class = \"data-frame\" style = \"margin-bottom: 6px;\"><thead><tr class = \"header\"><th class = \"rowNumber\" style = \"font-weight: bold; text-align: right;\">Row</th><th style = \"text-align: left;\">Unit</th><th style = \"text-align: left;\">Unit_int</th><th style = \"text-align: left;\">Node</th><th style = \"text-align: left;\">Node_int</th><th style = \"text-align: left;\">Scenario</th><th style = \"text-align: left;\">Value</th></tr><tr class = \"subheader headerLastRow\"><th class = \"rowNumber\" style = \"font-weight: bold; text-align: right;\"></th><th title = \"String15\" style = \"text-align: left;\">String15</th><th title = \"Int64\" style = \"text-align: left;\">Int64</th><th title = \"String31\" style = \"text-align: left;\">String31</th><th title = \"Int64\" style = \"text-align: left;\">Int64</th><th title = \"String\" style = \"text-align: left;\">String</th><th title = \"Float64\" style = \"text-align: left;\">Float64</th></tr></thead><tbody><tr><td class = \"rowNumber\" style = \"font-weight: bold; text-align: right;\">1</td><td style = \"text-align: left;\">H2_compress</td><td style = \"text-align: right;\">10</td><td style = \"text-align: left;\">El_BESS</td><td style = \"text-align: right;\">5</td><td style = \"text-align: left;\">Inv_H2_Local_2.0x_bin_15645322</td><td style = \"text-align: right;\">4.74178</td></tr><tr><td class = \"rowNumber\" style = \"font-weight: bold; text-align: right;\">2</td><td style = \"text-align: left;\">H2_compress</td><td style = \"text-align: right;\">10</td><td style = \"text-align: left;\">El_BESS</td><td style = \"text-align: right;\">5</td><td style = \"text-align: left;\">Inv_H2_Local_1.5x_bin_15645321</td><td style = \"text-align: right;\">10.1098</td></tr><tr><td class = \"rowNumber\" style = \"font-weight: bold; text-align: right;\">3</td><td style = \"text-align: left;\">H2_compress</td><td style = \"text-align: right;\">10</td><td style = \"text-align: left;\">El_BESS</td><td style = \"text-align: right;\">5</td><td style = \"text-align: left;\">Inv_H2_PPA_2.0x_bin_15645327</td><td style = \"text-align: right;\">23.6909</td></tr></tbody></table></div>"
      ],
      "text/latex": [
       "\\begin{tabular}{r|cccccc}\n",
       "\t& Unit & Unit\\_int & Node & Node\\_int & Scenario & Value\\\\\n",
       "\t\\hline\n",
       "\t& String15 & Int64 & String31 & Int64 & String & Float64\\\\\n",
       "\t\\hline\n",
       "\t1 & H2\\_compress & 10 & El\\_BESS & 5 & Inv\\_H2\\_Local\\_2.0x\\_bin\\_15645322 & 4.74178 \\\\\n",
       "\t2 & H2\\_compress & 10 & El\\_BESS & 5 & Inv\\_H2\\_Local\\_1.5x\\_bin\\_15645321 & 10.1098 \\\\\n",
       "\t3 & H2\\_compress & 10 & El\\_BESS & 5 & Inv\\_H2\\_PPA\\_2.0x\\_bin\\_15645327 & 23.6909 \\\\\n",
       "\\end{tabular}\n"
      ],
      "text/plain": [
       "\u001b[1m3×6 DataFrame\u001b[0m\n",
       "\u001b[1m Row \u001b[0m│\u001b[1m Unit        \u001b[0m\u001b[1m Unit_int \u001b[0m\u001b[1m Node     \u001b[0m\u001b[1m Node_int \u001b[0m\u001b[1m Scenario                    \u001b[0m ⋯\n",
       "     │\u001b[90m String15    \u001b[0m\u001b[90m Int64    \u001b[0m\u001b[90m String31 \u001b[0m\u001b[90m Int64    \u001b[0m\u001b[90m String                      \u001b[0m ⋯\n",
       "─────┼──────────────────────────────────────────────────────────────────────────\n",
       "   1 │ H2_compress        10  El_BESS          5  Inv_H2_Local_2.0x_bin_156453 ⋯\n",
       "   2 │ H2_compress        10  El_BESS          5  Inv_H2_Local_1.5x_bin_156453\n",
       "   3 │ H2_compress        10  El_BESS          5  Inv_H2_PPA_2.0x_bin_15645327\n",
       "\u001b[36m                                                               2 columns omitted\u001b[0m"
      ]
     },
     "metadata": {},
     "output_type": "display_data"
    }
   ],
   "source": [
    "flow_year = groupby(flows, [:Unit, :Unit_int, :Node, :Node_int, :Scenario])\n",
    "flow_year = combine(flow_year, :Value => sum)\n",
    "rename!(flow_year,:Value_sum => :Value)\n",
    "first(flow_year,3)"
   ]
  },
  {
   "cell_type": "code",
   "execution_count": 47,
   "metadata": {},
   "outputs": [
    {
     "data": {
      "text/plain": [
       "select_day (generic function with 1 method)"
      ]
     },
     "metadata": {},
     "output_type": "display_data"
    }
   ],
   "source": [
    "# Filter functions\n",
    "function select_scenario(data::DataFrame, scenario::AbstractString)\n",
    "    return filter(:Scenario => ==(scenario), data);\n",
    "end\n",
    "\n",
    "function select_hour(data_hourly::DataFrame, scenario::AbstractString, hour::DateTime)\n",
    "    scenario_data = filter(:Scenario => ==(scenario), data_hourly);\n",
    "    return filter(:Time => ==(hour), scenario_data);\n",
    "end\n",
    "\n",
    "function select_day(data_hourly::DataFrame, scenario::AbstractString, days::DateTime)\n",
    "    scenario_data = filter(:Scenario => ==(scenario), data_hourly);\n",
    "    return filter(:Time => x -> Date(x) == Date(days), scenario_data)\n",
    "end"
   ]
  },
  {
   "cell_type": "code",
   "execution_count": 48,
   "metadata": {},
   "outputs": [
    {
     "data": {
      "text/plain": [
       "add_menu (generic function with 1 method)"
      ]
     },
     "metadata": {},
     "output_type": "display_data"
    }
   ],
   "source": [
    "function add_menu()\n",
    "    menu = Menu(fig,\n",
    "                options = us,\n",
    "                default = us[1],\n",
    "                direction=:down\n",
    "    )\n",
    "\n",
    "    fig[1,1] = vgrid!(\n",
    "    Label(fig, \"Scenario\", width = nothing),\n",
    "    menu;\n",
    "    tellheight = false, width=350\n",
    "    )\n",
    "  return menu\n",
    "end"
   ]
  },
  {
   "cell_type": "code",
   "execution_count": 49,
   "metadata": {},
   "outputs": [
    {
     "data": {
      "text/plain": [
       "add_slider_hour (generic function with 1 method)"
      ]
     },
     "metadata": {},
     "output_type": "display_data"
    }
   ],
   "source": [
    "# Slider Hour\n",
    "function add_slider_hour(data_hourly::DataFrame)\n",
    "    starttime = minimum(data_hourly.Time)\n",
    "    endtime = maximum(data_hourly.Time)\n",
    "    slid = Slider(fig[1,1], range = range(starttime, endtime, step=Hour(1)), startvalue=starttime)\n",
    "\n",
    "    fig[3,2:3] = hgrid!(\n",
    "        Label(fig, \"Hour:\", height = nothing),\n",
    "        slid;\n",
    "        #Label(fig, Dates.format(hour_obs, \"yyyy-mm-dd HH\"));\n",
    "        tellweight = false, width=600\n",
    "    )\n",
    "\n",
    "    return slid\n",
    "end"
   ]
  },
  {
   "cell_type": "code",
   "execution_count": 50,
   "metadata": {},
   "outputs": [
    {
     "data": {
      "text/plain": [
       "add_slider_day (generic function with 1 method)"
      ]
     },
     "metadata": {},
     "output_type": "display_data"
    }
   ],
   "source": [
    "# Slider day\n",
    "function add_slider_day(data_hourly::DataFrame)\n",
    "    starttime = day(minimum(data_hourly.Time))\n",
    "    endtime = day(maximum(data_hourly.Time))\n",
    "    slid = Slider(fig[1,1], range = range(starttime, endtime, step=Day(1)), startvalue=starttime)\n",
    "\n",
    "    fig[3,2] = hgrid!(\n",
    "        Label(fig, \"Day:\", height = nothing),\n",
    "        slid;\n",
    "        #Label(fig, Dates.format(hour_obs, \"yyyy-mm-dd HH\"));\n",
    "        tellweight = false, width=600\n",
    "    )\n",
    "\n",
    "    return slid\n",
    "end"
   ]
  },
  {
   "cell_type": "code",
   "execution_count": 51,
   "metadata": {},
   "outputs": [
    {
     "data": {
      "text/plain": [
       "plot_units_to_nodes (generic function with 1 method)"
      ]
     },
     "metadata": {},
     "output_type": "display_data"
    }
   ],
   "source": [
    "function plot_units_to_nodes(fig_pos::GridPosition, df_data::Observable; legend=false, legend_pos=fig[2,1], title=\"Year\") \n",
    "    colors = cgrad(colors_n)\n",
    "    ax = Axis(fig_pos; xticks = (1:length(legend_u), legend_u),\n",
    "                        xticklabelrotation = pi/6, xlabel = \"Units\",\n",
    "                        title = title,\n",
    "                        yscale = Makie.pseudolog10,\n",
    "    )\n",
    "    points = @lift(Point2f.(convert(Vector{Float32}, sort!($df_data, :Node_int, rev=true).Unit_int), sort!($df_data,  :Node_int, rev=true).Value))\n",
    "\n",
    "    plt = barplot!(ax, points;\n",
    "            stack=repeat(1:length(legend_n), outer=length(legend_u)),\n",
    "            color=@lift(colors[$df_data.Node_int]),\n",
    "            #colormap = :tab20,\n",
    "            #colorrange = (1, length(un)),\n",
    "            width=1, \n",
    "    )\n",
    "    \n",
    "    # Limits\n",
    "    value_max = @lift(maximum([sum((last.($points)[d] for d in 1:length($df_data.Value) \n",
    "                        if first.($points)[d] == unique($df_data.Unit_int)[n] && last.($points)[d] > 0), init = 0) for n in 1:length(unique($df_data.Unit_int))], init = 0.01));\n",
    "\n",
    "    value_min = @lift(minimum([sum((last.($points)[d] for d in 1:length($df_data.Value)\n",
    "                        if first.($points)[d] == unique($df_data.Unit_int)[n] && last.($points)[d] < 0), init = 0) for n in 1:length(unique($df_data.Unit_int))], init = 0));\n",
    "\n",
    "    @lift(limits!(ax, 0, length(legend_u)+1, minimum([1.5*$value_min, -50]), maximum([1.5*$value_max, 50])))\n",
    "    \n",
    "    if legend == true\n",
    "        # Legend\n",
    "        title = \"Nodes\"\n",
    "        Legend(legend_pos, [PolyElement(polycolor = colors[i]) for i in 1:length(legend_n)], [legend_n[i] for i in 1:length(legend_n)], title, nbanks=2)\n",
    "        #@lift(Legend(fig[1,3], [PolyElement(polycolor = colors[i]) for i in unique($df_data.Node_int)], [un[i] for i in (unique($df_data.Node_int))], title))\n",
    "    end    \n",
    "    return fig, ax, plt\n",
    "end"
   ]
  },
  {
   "cell_type": "code",
   "execution_count": 52,
   "metadata": {},
   "outputs": [
    {
     "data": {
      "text/plain": [
       "plot_nodes_to_units (generic function with 1 method)"
      ]
     },
     "metadata": {},
     "output_type": "display_data"
    }
   ],
   "source": [
    "function plot_nodes_to_units(fig_pos::GridPosition, df_data::Observable, source::String; legend=false, legend_pos=fig[2,1], title=\"\", RES=true, ymin=50, storage_data=nothing) \n",
    "    #colors = cgrad(colors_u)\n",
    "    ax = Axis(fig_pos; xticks = 0:23,\n",
    "                        xticklabelrotation = pi/3, xlabel = \"Time\", xticklabelsize=12,\n",
    "                        title = title\n",
    "    )\n",
    "    # # Renew el bars\n",
    "    Renew_data = @lift(filter([:Node, :Value] => (x,y) -> x == source && y > 0, sort!($df_data, [:Time, :Unit_int],rev=[false, true])))\n",
    "    Renew_points = @lift(Point2f.(convert(Vector{Float32}, hour.($Renew_data.Time)), $Renew_data.Value))\n",
    "\n",
    "    plt = barplot!(ax, Renew_points;\n",
    "                    stack= repeat(1:length(legend_u), outer=24),  #@lift($Renew_data.Unit_int),\n",
    "                    color=@lift(cgrad(colors_u)[$Renew_data.Unit_int]),\n",
    "    )\n",
    "\n",
    "    if RES == true\n",
    "        if source == \"El_renew\" wind=\"El_wind\"; PV = \"El_PV\" elseif source == \"El_PPA\" wind=\"El_wind_inv\"; PV = \"El_PV_inv\" end\n",
    "        # Wind line\n",
    "        Wind_data = @lift(filter(:Unit =>==(\"wind\"), $df_data))\n",
    "        Wind_points = @lift(Point2f.(convert(Vector{Float32}, hour.($Wind_data.Time)), -$Wind_data.Value))\n",
    "        plt = scatter!(ax, Wind_points; linewidth=5, color=:turquoise1, marker='≈', markersize=25\n",
    "        )\n",
    "        # # PV line\n",
    "        PV_data = @lift(filter(:Unit =>==(\"PV\"), $df_data))\n",
    "        PV_points = @lift(Point2f.(convert(Vector{Float32}, hour.($PV_data.Time)), -$PV_data.Value))\n",
    "        plt = scatter!(ax, PV_points; linewidth=5, color=:gold1, marker=:star8\n",
    "        )\n",
    "    end\n",
    "\n",
    "    # Hydrogen storage state\n",
    "    if storage_data != nothing\n",
    "        H2_data = @lift(filter([:Node, :Parameter] => (x,y) -> x == \"H2_storage\" && y == \"node_state\", $storage_data))\n",
    "        H2_points = @lift(Point2f.(convert(Vector{Float32}, hour.($H2_data.Time)), $H2_data.Value))\n",
    "        plt = scatterlines!(ax, H2_points; linewidth=5, markercolor=:steelblue4, strokecolor=:royalblue, \n",
    "        color =:royalblue #, marker=:star8)\n",
    "        )\n",
    "    end\n",
    "    \n",
    "    # Axis limits\n",
    "    value_max = @lift(maximum([sum((last.($Renew_points)[d] for d in 1:length($Renew_points) \n",
    "                        if first.($Renew_points)[d] == n), init = 0) for n in 0:23], init=0.01));\n",
    "\n",
    "    @lift(limits!(ax, 0, 23, 0, maximum([1.05*$value_max, ymin])))\n",
    "    \n",
    "    if legend == true\n",
    "        # Legend\n",
    "         title = \"Units\"\n",
    "         Legend(legend_pos, [PolyElement(polycolor = cgrad(colors_u)[i]) for i in 1:length(legend_u)], \n",
    "                [legend_u[i] for i in 1:length(legend_u)], title, nbanks=2)\n",
    "        #@lift(Legend(fig[1,3], [PolyElement(polycolor = colors[i]) for i in unique($df_data.Node_int)], [un[i] for i in (unique($df_data.Node_int))], title))\n",
    "    end    \n",
    "    return fig, ax, plt\n",
    "end"
   ]
  },
  {
   "cell_type": "code",
   "execution_count": 144,
   "metadata": {},
   "outputs": [
    {
     "data": {
      "text/plain": [
       "plot_units_var (generic function with 1 method)"
      ]
     },
     "metadata": {},
     "output_type": "display_data"
    }
   ],
   "source": [
    "function plot_units_var(fig_pos::GridPosition, df_data::Observable; legend=false, legend_pos=fig[2,1], title=\"Year\") \n",
    "    colors = cgrad(colors_u)\n",
    "    ax = Axis(fig_pos; xticks = ([dict_u[x] for x in uiu], uiu),\n",
    "                        xticklabelrotation = pi/3, xlabel = \"Units\",\n",
    "                        title = title,\n",
    "                        yscale = Makie.pseudolog10,\n",
    "                        xticklabelsize=12,\n",
    "    )\n",
    "\n",
    "    Unit_data = @lift(filter(:Parameter => x -> contains(x, \"invested_available\"), $df_data))\n",
    "    points = @lift(Point2f.(convert(Vector{Float32}, $Unit_data.Unit_int), $Unit_data.Value))\n",
    "\n",
    "    plt = barplot!(ax, points;\n",
    "            #stack=repeat(1:length(legend_n), outer=length(legend_u)),\n",
    "            color=@lift(colors[$Unit_data.Unit_int]),\n",
    "            #bar_labels= :y, #nothing,#@lift(round.($Unit_data.Value, digits=2)),\n",
    "            #colormap = :tab20,\n",
    "            #colorrange = (1, length(un)),\n",
    "            width=1, \n",
    "    )\n",
    "\n",
    "    text!(ax, points, text=@lift(string.(round.($Unit_data.Value, digits=2))))\n",
    "    \n",
    "    # Limits\n",
    "    # value_max = @lift(maximum([sum((last.($points)[d] for d in 1:length($df_data.Value) \n",
    "    #                     if first.($points)[d] == unique($df_data.Unit_int)[n] && last.($points)[d] > 0), init = 0) for n in 1:length(unique($df_data.Unit_int))], init = 0.01));\n",
    "\n",
    "    # value_min = @lift(minimum([sum((last.($points)[d] for d in 1:length($df_data.Value)\n",
    "    #                     if first.($points)[d] == unique($df_data.Unit_int)[n] && last.($points)[d] < 0), init = 0) for n in 1:length(unique($df_data.Unit_int))], init = 0));\n",
    "\n",
    "    @lift(limits!(ax, 0, length(legend_u)+2, 0, 1.7*maximum(vcat(0.0001, $Unit_data.Value))))\n",
    "    plt.bar_labels=@lift(round.($Unit_data.Value, digits=2))\n",
    "    \n",
    "    if legend == true\n",
    "        # Legend\n",
    "        title = \"Nodes\"\n",
    "        Legend(legend_pos, [PolyElement(polycolor = colors[i]) for i in 1:length(legend_u)], [legend_u[i] for i in 1:length(legend_u)], title, nbanks=2)\n",
    "        #@lift(Legend(fig[1,3], [PolyElement(polycolor = colors[i]) for i in unique($df_data.Node_int)], [un[i] for i in (unique($df_data.Node_int))], title))\n",
    "    end    \n",
    "    return fig, ax, plt\n",
    "end"
   ]
  },
  {
   "cell_type": "code",
   "execution_count": 54,
   "metadata": {},
   "outputs": [
    {
     "data": {
      "text/plain": [
       "plot_nodes_var (generic function with 1 method)"
      ]
     },
     "metadata": {},
     "output_type": "display_data"
    }
   ],
   "source": [
    "function plot_nodes_var(fig_pos::GridPosition, df_data::Observable; legend=false, legend_pos=fig[2,1], title=\"Year\") \n",
    "    colors = cgrad(colors_n)\n",
    "    ax = Axis(fig_pos; xticks = ([dict_n[x] for x in uin], uin),\n",
    "                        xticklabelrotation = pi/3, xlabel = \"Units\",\n",
    "                        title = title,\n",
    "                        yscale = Makie.pseudolog10,\n",
    "                        xticklabelsize=12,\n",
    "    )\n",
    "\n",
    "    Nodes_data = @lift(filter(:Parameter => x -> contains(x, \"invested_available\"), $df_data))\n",
    "    points = @lift(Point2f.(convert(Vector{Float32}, $Nodes_data.Node_int), $Nodes_data.Value))\n",
    "\n",
    "    plt = barplot!(ax, points;\n",
    "            #stack=repeat(1:length(legend_n), outer=length(legend_u)),\n",
    "            color=@lift(colors[$Nodes_data.Node_int]),\n",
    "            #bar_labels= :y, #nothing,#@lift(round.($Nodes_data.Value, digits=2)),\n",
    "            #colormap = :tab20,\n",
    "            #colorrange = (1, length(un)),\n",
    "            width=1, \n",
    "    )\n",
    "\n",
    "    text!(ax, points, text=@lift(string.(round.($Nodes_data.Value, digits=2))))\n",
    "    \n",
    "    # Limits\n",
    "    # value_max = @lift(maximum([sum((last.($points)[d] for d in 1:length($df_data.Value) \n",
    "    #                     if first.($points)[d] == unique($df_data.Unit_int)[n] && last.($points)[d] > 0), init = 0) for n in 1:length(unique($df_data.Unit_int))], init = 0.01));\n",
    "\n",
    "    # value_min = @lift(minimum([sum((last.($points)[d] for d in 1:length($df_data.Value)\n",
    "    #                     if first.($points)[d] == unique($df_data.Unit_int)[n] && last.($points)[d] < 0), init = 0) for n in 1:length(unique($df_data.Unit_int))], init = 0));\n",
    "\n",
    "    @lift(limits!(ax, 0, length(legend_u)+2, 0, 1.7*maximum(vcat(0.0001,$Nodes_data.Value))))\n",
    "    plt.bar_labels=@lift(round.($Nodes_data.Value, digits=2))\n",
    "    \n",
    "    if legend == true\n",
    "        # Legend\n",
    "        title = \"Nodes\"\n",
    "        Legend(legend_pos, [PolyElement(polycolor = colors[i]) for i in 1:length(legend_n)], [legend_n[i] for i in 1:length(legend_n)], title, nbanks=2)\n",
    "        #@lift(Legend(fig[1,3], [PolyElement(polycolor = colors[i]) for i in unique($df_data.Node_int)], [un[i] for i in (unique($df_data.Node_int))], title))\n",
    "    end    \n",
    "    return fig, ax, plt\n",
    "end"
   ]
  },
  {
   "cell_type": "code",
   "execution_count": 145,
   "metadata": {},
   "outputs": [
    {
     "data": {
      "text/plain": [
       "GLMakie.Screen(...)"
      ]
     },
     "metadata": {},
     "output_type": "display_data"
    }
   ],
   "source": [
    "fig = Figure(resolution=(2000,1200)) \n",
    "\n",
    "scenario_obs = Observable(us[1])\n",
    "hour_obs = Observable(DateTime(2019,01,01,01,0,0))\n",
    "flow_year_df_obs = @lift(select_scenario(flow_year, $scenario_obs))\n",
    "flow_day_df_obs = @lift(select_day(flow_hourly, $scenario_obs, $hour_obs))\n",
    "flow_hour_df_obs = @lift(select_hour(flow_hourly, $scenario_obs, $hour_obs))\n",
    "units_year_df_obs = @lift(select_scenario(data_units, $scenario_obs))\n",
    "nodes_year_df_obs = @lift(select_scenario(data_nodes, $scenario_obs))\n",
    "nodes_day_df_obs = @lift(select_day(data_nodes, $scenario_obs, $hour_obs))\n",
    "\n",
    "menu = add_menu()\n",
    "slider = add_slider_hour(flow_hourly)\n",
    "\n",
    "fig, ax, plt = plot_units_to_nodes(fig[1,2:3], flow_year_df_obs,   title=\"Input/Output Flows per Unit per Year\", legend=true) \n",
    "fig, ax2, plt2 = plot_units_to_nodes(fig[2,2:3], flow_hour_df_obs, title=\"Input/Output Flows per Unit per Hour\")\n",
    "fig, ax3, plt3 = plot_nodes_to_units(fig[4,2], flow_day_df_obs, \"El_renew\", title=\"On-site RES to Units\", legend=true, legend_pos=fig[4,1])\n",
    "fig, ax4, plt4 = plot_nodes_to_units(fig[4,3], flow_day_df_obs, \"El_PPA\", title=\"PPA Electricity to Units\", legend=false)\n",
    "fig, ax5, plt5 = plot_nodes_to_units(fig[4,4], flow_day_df_obs, \"H2\", title=\"Hydrogen to Units/Storage\", legend=false, RES=false, ymin=2, storage_data=nodes_day_df_obs)\n",
    "fig, ax6, plt6 = plot_units_var(fig[1,4], units_year_df_obs,   title=\"Investments per Unit\", legend=false) \n",
    "fig, ax7, plt7 = plot_nodes_var(fig[2,4], nodes_year_df_obs,   title=\"Investments per Node\", legend=false) \n",
    "\n",
    "\n",
    "on(menu.selection) do select\n",
    "    scenario_obs[] = select\n",
    "end\n",
    "\n",
    " on(slider.value) do val\n",
    "     hour_obs[] = val\n",
    "     ax2.title = \"Input/Output Flows per Unit on $(Dates.format(val, \"yyyy-mm-dd HH\"))h\" #$(val)\"\n",
    "     ax3.title = \"On-site RES to Units on $(Dates.format(val, \"yyyy-mm-dd\"))\" #$(val)\"\n",
    "     ax4.title = \"PPA Electricity to Units on $(Dates.format(val, \"yyyy-mm-dd\"))\" #$(val)\"\n",
    "     ax5.title = \"Hydrogen to Units/Storage on $(Dates.format(val, \"yyyy-mm-dd\"))\" #$(val)\"\n",
    " end\n",
    "\n",
    "display(fig)"
   ]
  },
  {
   "cell_type": "code",
   "execution_count": 165,
   "metadata": {},
   "outputs": [],
   "source": [
    "# use CairoMakie for pdf\n",
    "save(\"pics/MeOH_H2-storage-0-opt.png\", fig)"
   ]
  },
  {
   "cell_type": "code",
   "execution_count": 135,
   "metadata": {},
   "outputs": [
    {
     "data": {
      "image/png": "[encoded data removed]"
     },
     "metadata": {},
     "output_type": "display_data"
    }
   ],
   "source": [
    "fig2 = Figure(resolution=(1600,400)) \n",
    "colorsu = cgrad(colors_u)\n",
    "colorsn = cgrad(colors_n)\n",
    "Unit_data = \n",
    "filter([:Parameter, :Value, :Scenario] => (x,y,z) -> contains(x, \"invested_available\") && y > 0.1 \n",
    "                                                        && !contains(z, \"opt\") && contains(z, \"bin\") , data_units)\n",
    "\n",
    "Node_data = \n",
    "filter([:Parameter, :Value, :Scenario] => (x,y,z) -> contains(x, \"invested_available\") && y > 0.1 \n",
    "                                                        && !contains(z, \"opt\") && contains(z, \"bin\") , data_nodes)\n",
    "\n",
    "\n",
    "# Scenarios box\n",
    "us_short = sort!(unique(Unit_data.Scenario))\n",
    "dict_s = Dict(us_short .=> 1: length(us_short));\n",
    "Unit_data[!, :Scenario_int] = [dict_s[x] for x in Unit_data.Scenario];\n",
    "Node_data[!, :Scenario_int] = [dict_s[x] for x in Node_data.Scenario];\n",
    "\n",
    "# fig2[1,1] = vgrid!(\n",
    "#         Label(fig2[1,1], \"Scenarios\", fontsize=16, font = :bold),\n",
    "#         hgrid!(\n",
    "#         Label(fig2[1,1], join(collect(1:length(us_short)), \"\\n\"), width = nothing, justification = :left, font = :bold, fontsize=14,\n",
    "#         lineheight = 1.5),\n",
    "#         Label(fig2[1,1], join(chop.(us_short, tail=13), \"\\n\"), justification = :left, fontsize=14,\n",
    "#         lineheight = 1.5));\n",
    "#         tellheight = false, width=170\n",
    "# )\n",
    "\n",
    "# Units invested in \n",
    "uiu_short = sort!(unique(Unit_data.Unit))\n",
    "dict_ui = Dict(uiu_short .=> 1: length(uiu_short));\n",
    "Unit_data[!, :Unit_int_i] = [dict_ui[x] for x in Unit_data.Unit];\n",
    "\n",
    "ax1 = Axis(fig2[1,1]; xticks = ([dict_ui[x] for x in uiu_short], uiu_short),\n",
    "                        yticks = ([0, 1, 10, 100, 200]),\n",
    "                        # xlabel = \"Units\",\n",
    "                        title = \"Units invested in\",\n",
    "                        yscale = Makie.pseudolog10,\n",
    "                        xticklabelsize=14,\n",
    ")\n",
    "\n",
    "upoints = Point2f.(convert(Vector{Float32}, Unit_data.Unit_int_i), Unit_data.Value)\n",
    "plt = barplot!(ax1, upoints;\n",
    "        dodge = Unit_data.Scenario_int,\n",
    "        color=colorsu[Unit_data.Unit_int],\n",
    "        bar_labels= convert.(Int, round.(Unit_data.Value, digits=0)),\n",
    "        width=1, \n",
    "        label_size = 7,\n",
    ")\n",
    "\n",
    "text!(ax1, Point2f.(first.(upoints) + (0.84/length(us_short)) .*(Unit_data.Scenario_int .-length(us_short)/1.72), \n",
    "        zeros(length(upoints)) .- .3) , text=string.(convert.(Int, round.(Unit_data.Scenario_int, digits=0))), fontsize=9\n",
    ")\n",
    "\n",
    "# Nodes invested in \n",
    "uin_short = sort!(unique(Node_data.Node))\n",
    "dict_ni = Dict(uin_short .=> 1: length(uin_short));\n",
    "Node_data[!, :Node_int_i] = [dict_ni[x] for x in Node_data.Node];\n",
    "\n",
    "ax2 = Axis(fig2[1,2]; xticks = ([dict_ni[x] for x in uin_short], uin_short),\n",
    "                        yticks = ([0, 1, 10, 100, 200]),\n",
    "                        yticklabelsvisible = false,\n",
    "                        # xlabel = \"Nodes\",\n",
    "                        title = \"Nodes invested in\",\n",
    "                        yscale = Makie.pseudolog10,\n",
    "                        xticklabelsize=14,\n",
    "                        width=300\n",
    ")\n",
    "\n",
    "npoints = Point2f.(convert(Vector{Float32}, Node_data.Node_int_i), Node_data.Value)\n",
    "plt2 = barplot!(ax2, npoints;\n",
    "        dodge = Node_data.Scenario_int,\n",
    "        color=colorsn[Node_data.Node_int],\n",
    "        bar_labels= convert.(Int, round.(Node_data.Value, digits=0)),\n",
    "        width=1, \n",
    "        label_size = 7,\n",
    ")\n",
    "\n",
    "text!(ax2, Point2f.(first.(npoints) + (0.84/length(us_short)) .*(Node_data.Scenario_int .-length(us_short)/1.72), \n",
    "        zeros(length(npoints)) .- .3) , text=string.(convert.(Int, round.(Node_data.Scenario_int, digits=0))), fontsize=9\n",
    ")\n",
    "\n",
    "linkyaxes!(ax1, ax2)\n",
    "\n",
    "display(fig2)"
   ]
  },
  {
   "cell_type": "code",
   "execution_count": 136,
   "metadata": {},
   "outputs": [
    {
     "data": {
      "text/plain": [
       "CairoMakie.Screen{PDF}\n"
      ]
     },
     "metadata": {},
     "output_type": "display_data"
    }
   ],
   "source": [
    "# use CairoMakie for pdf\n",
    "save(\"pics/invest_results.pdf\", fig2)"
   ]
  },
  {
   "cell_type": "code",
   "execution_count": 137,
   "metadata": {},
   "outputs": [
    {
     "data": {
      "text/plain": [
       "11-element Vector{String}:\n",
       " \"Inv_H2_Local_1.5x_bin_15645321\"\n",
       " \"Inv_H2_Local_2.0x_bin_15645322\"\n",
       " \"Inv_H2_PPA_1.0x_bin_15645324\"\n",
       " \"Inv_H2_PPA_1.5x_bin_15645326\"\n",
       " \"Inv_H2_PPA_2.0x_bin_15645327\"\n",
       " \"Inv_MeOH_PPA_1.0x_bin_15645329\"\n",
       " \"Inv_MeOH_PPA_1.5x_bin_15645333\"\n",
       " \"Inv_MeOH_PPA_2.0x_bin_15645334\"\n",
       " \"Inv_NH3_PPA_1.0x_bin_15645336\"\n",
       " \"Inv_NH3_PPA_1.5x_bin_15645339\"\n",
       " \"Inv_NH3_PPA_2.0x_bin_15645340\""
      ]
     },
     "metadata": {},
     "output_type": "display_data"
    }
   ],
   "source": [
    "us_short"
   ]
  }
 ],
 "metadata": {
  "kernelspec": {
   "display_name": "Julia 1.7.3",
   "language": "julia",
   "name": "julia-1.7"
  },
  "language_info": {
   "file_extension": ".jl",
   "mimetype": "application/julia",
   "name": "julia",
   "version": "1.7.3"
  },
  "orig_nbformat": 4
 },
 "nbformat": 4,
 "nbformat_minor": 2
}
